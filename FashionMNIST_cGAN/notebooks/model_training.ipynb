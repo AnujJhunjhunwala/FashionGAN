import torch
import torch.optim as optim
import torch.nn as nn
import wandb
from models.cgan import Generator, Discriminator
from data.download_data import get_fashion_mnist_data
from utils.training import train_cgan
from utils.metrics import inception_score, fid_score

# Initialize wandb
wandb.init(project="FashionMNIST_cGAN")

# Hyperparameters
epochs = 100
batch_size = 64
lr = 0.0002
nz = 100
num_classes = 10

# Train the cGAN
train_cgan(epochs, batch_size, lr, nz, num_classes)

# Compute metrics (Example - replace with actual implementation)
real_images = ...  # Load your real images
generated_images = ...  # Load your generated images
is_mean, is_std = inception_score(generated_images)
fid = fid_score(real_images, generated_images)

# Log metrics
wandb.log({"Inception_Score_mean": is_mean, "Inception_Score_std": is_std, "FID_score": fid})
